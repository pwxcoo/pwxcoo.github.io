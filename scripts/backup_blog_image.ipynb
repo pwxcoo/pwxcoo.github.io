{
 "cells": [
  {
   "cell_type": "code",
   "execution_count": 6,
   "metadata": {},
   "outputs": [],
   "source": [
    "import os, re"
   ]
  },
  {
   "cell_type": "code",
   "execution_count": 7,
   "metadata": {},
   "outputs": [
    {
     "data": {
      "text/plain": [
       "['/home/pwxcoo/projects/pwxcoo.github.io/source/_posts/leetcode150题.md',\n",
       " '/home/pwxcoo/projects/pwxcoo.github.io/source/_posts/快速幂.md',\n",
       " '/home/pwxcoo/projects/pwxcoo.github.io/source/_posts/charming-star-repositories.md',\n",
       " '/home/pwxcoo/projects/pwxcoo.github.io/source/_posts/错排问题.md',\n",
       " '/home/pwxcoo/projects/pwxcoo.github.io/source/_posts/鸡蛋下落问题.md',\n",
       " '/home/pwxcoo/projects/pwxcoo.github.io/source/_posts/浅谈计算机编码.md',\n",
       " '/home/pwxcoo/projects/pwxcoo.github.io/source/_posts/红黑树的实现.md',\n",
       " '/home/pwxcoo/projects/pwxcoo.github.io/source/_posts/用node来发送邮件.md',\n",
       " '/home/pwxcoo/projects/pwxcoo.github.io/source/_posts/用Mathjax在markdown中使用数学公式.md',\n",
       " '/home/pwxcoo/projects/pwxcoo.github.io/source/_posts/LRU-cache.md',\n",
       " '/home/pwxcoo/projects/pwxcoo.github.io/source/_posts/10种排序算法.md',\n",
       " '/home/pwxcoo/projects/pwxcoo.github.io/source/_posts/Spring Boot Security下的注册登录.md',\n",
       " '/home/pwxcoo/projects/pwxcoo.github.io/source/_posts/浅谈Redis和缓存.md',\n",
       " '/home/pwxcoo/projects/pwxcoo.github.io/source/_posts/Manage a Series of SSH Keys.md',\n",
       " '/home/pwxcoo/projects/pwxcoo.github.io/source/_posts/Internal Compiler Error.md',\n",
       " '/home/pwxcoo/projects/pwxcoo.github.io/source/_posts/linux下的终端管理tmux.md',\n",
       " '/home/pwxcoo/projects/pwxcoo.github.io/source/_posts/visual-studio-code配置C-C-环境.md',\n",
       " '/home/pwxcoo/projects/pwxcoo.github.io/source/_posts/浅谈数据库索引——一条sql语句引发的血案.md',\n",
       " '/home/pwxcoo/projects/pwxcoo.github.io/source/_posts/约瑟夫环.md',\n",
       " '/home/pwxcoo/projects/pwxcoo.github.io/source/_posts/makefile和常见gcc参数.md',\n",
       " '/home/pwxcoo/projects/pwxcoo.github.io/source/_posts/Design Pattern.md',\n",
       " '/home/pwxcoo/projects/pwxcoo.github.io/source/_posts/浅谈HashMap和ConcurrentHashMap.md',\n",
       " '/home/pwxcoo/projects/pwxcoo.github.io/source/_posts/浅谈socket和http.md',\n",
       " '/home/pwxcoo/projects/pwxcoo.github.io/source/_posts/浅谈计算机浮点数.md',\n",
       " '/home/pwxcoo/projects/pwxcoo.github.io/source/_posts/开发微信公众号开发者接口.md',\n",
       " '/home/pwxcoo/projects/pwxcoo.github.io/source/_posts/01背包问题.md',\n",
       " '/home/pwxcoo/projects/pwxcoo.github.io/source/_posts/浅谈Java并发.md',\n",
       " '/home/pwxcoo/projects/pwxcoo.github.io/source/_posts/用impress.js做以太坊的presentation.md',\n",
       " '/home/pwxcoo/projects/pwxcoo.github.io/source/_posts/ubuntu配置日志.md',\n",
       " '/home/pwxcoo/projects/pwxcoo.github.io/source/_posts/读《汇编语言（第三版）》.md',\n",
       " '/home/pwxcoo/projects/pwxcoo.github.io/source/_posts/Hello Pwxcoo.md',\n",
       " '/home/pwxcoo/projects/pwxcoo.github.io/source/_posts/赛马问题.md',\n",
       " '/home/pwxcoo/projects/pwxcoo.github.io/source/_posts/浅谈随机数.md',\n",
       " '/home/pwxcoo/projects/pwxcoo.github.io/source/_posts/把网站升级到HTTPS.md',\n",
       " '/home/pwxcoo/projects/pwxcoo.github.io/source/_posts/Computer Network.md',\n",
       " '/home/pwxcoo/projects/pwxcoo.github.io/source/_posts/a-collection-of-common-operations-in-vim.md',\n",
       " '/home/pwxcoo/projects/pwxcoo.github.io/source/_posts/python库requests-html笔记.md',\n",
       " '/home/pwxcoo/projects/pwxcoo.github.io/source/_posts/CRC校验.md',\n",
       " '/home/pwxcoo/projects/pwxcoo.github.io/source/_posts/《汇编语言》检测点笔记.md',\n",
       " '/home/pwxcoo/projects/pwxcoo.github.io/source/_posts/图的拓扑排序问题.md',\n",
       " '/home/pwxcoo/projects/pwxcoo.github.io/source/_posts/Untrack-files-already-added-to-git-repository-based-on-gitignore.md',\n",
       " '/home/pwxcoo/projects/pwxcoo.github.io/source/_posts/七牛上传图片js脚本.md',\n",
       " '/home/pwxcoo/projects/pwxcoo.github.io/source/_posts/一次http请求全过程.md',\n",
       " '/home/pwxcoo/projects/pwxcoo.github.io/source/_posts/浅谈哈希冲突.md',\n",
       " '/home/pwxcoo/projects/pwxcoo.github.io/source/_posts/用tesseract引擎实现OCR识别.md',\n",
       " '/home/pwxcoo/projects/pwxcoo.github.io/source/_posts/搭建git服务器.md',\n",
       " '/home/pwxcoo/projects/pwxcoo.github.io/source/_posts/Open RSS Subscription.md']"
      ]
     },
     "execution_count": 7,
     "metadata": {},
     "output_type": "execute_result"
    }
   ],
   "source": [
    "directory = \"/home/pwxcoo/projects/pwxcoo.github.io/source/_posts\"\n",
    "\n",
    "files = []\n",
    "\n",
    "for filename in os.listdir(directory):\n",
    "    if filename.endswith(\".md\") :\n",
    "#         print(os.path.join(directory, filename))\n",
    "        files.append(os.path.join(directory, filename))\n",
    "    else:\n",
    "        continue\n",
    "\n",
    "files"
   ]
  },
  {
   "cell_type": "code",
   "execution_count": 22,
   "metadata": {},
   "outputs": [
    {
     "data": {
      "text/plain": [
       "[('leetcode150', 'https://i.loli.net/2018/12/05/5c0749ebbfe73.png'),\n",
       " ('ascii码表', 'https://i.loli.net/2018/12/05/5c07497547532.png'),\n",
       " ('utf-8编码规则', 'https://i.loli.net/2018/12/05/5c074959bca43.png'),\n",
       " ('utf-16', 'https://i.loli.net/2018/05/27/5b0a1f143dec4.png'),\n",
       " ('排序算法', 'https://i.loli.net/2018/12/05/5c074a0413e39.png'),\n",
       " ('b-tree', 'https://i.loli.net/2018/08/27/5b841d2d5f199.png'),\n",
       " ('b+tree', 'https://i.loli.net/2018/08/27/5b841d7988e20.png'),\n",
       " ('tcpandudp', 'https://i.loli.net/2018/06/05/5b16b06f295d2.jpeg'),\n",
       " ('tcpProcess', 'https://i.loli.net/2018/06/07/5b18919f2343f.png'),\n",
       " ('float', 'https://i.loli.net/2018/12/05/5c07499809a8d.png'),\n",
       " ('float-math', 'https://i.loli.net/2018/12/05/5c0749b0e5c28.png'),\n",
       " ('concurrent', 'https://i.loli.net/2018/09/07/5b920cd0dd44e.png'),\n",
       " ('我的presentation', 'https://i.loli.net/2018/12/05/5c0748725e369.png'),\n",
       " ('https', 'https://i.loli.net/2018/05/03/5aeb0c44e371a.png'),\n",
       " ('migrate', 'https://i.loli.net/2018/05/07/5af057358135a.png'),\n",
       " ('ip-format', 'https://i.loli.net/2018/06/24/5b2fbf6d552e9.png'),\n",
       " ('udp-header', 'https://i.loli.net/2018/06/25/5b2fc000f3111.jpg'),\n",
       " ('tcp-header', 'https://i.loli.net/2018/06/24/5b2fbfdc6c291.png'),\n",
       " ('tcp-handshake', 'https://i.loli.net/2018/06/24/5b2fbfb713b9d.png'),\n",
       " ('tcp-wave', 'https://i.loli.net/2018/06/24/5b2fbfeb89f6d.jpg'),\n",
       " ('crc.png', 'https://i.loli.net/2018/09/08/5b938180e1c25.png'),\n",
       " ('图3.6', 'https://i.loli.net/2018/12/05/5c074a1f5f1ec.png'),\n",
       " ('graph-cycle-dfs', 'https://i.loli.net/2018/07/25/5b574e888c55b.png'),\n",
       " ('graph-cycle-bfs', 'https://i.loli.net/2018/07/25/5b5751ac34dbe.png'),\n",
       " ('七牛脚本测试', 'https://i.loli.net/2018/12/05/5c0749ca53d4e.png')]"
      ]
     },
     "execution_count": 22,
     "metadata": {},
     "output_type": "execute_result"
    }
   ],
   "source": [
    "images = []\n",
    "\n",
    "for file in files:\n",
    "    with open(file) as fp:\n",
    "        contents = fp.read()\n",
    "        images += re.findall(r'!\\[(.*?)\\]\\((https://i.loli.net[/\\w.]+)\\)', contents)\n",
    "        \n",
    "images"
   ]
  },
  {
   "cell_type": "code",
   "execution_count": 26,
   "metadata": {},
   "outputs": [],
   "source": [
    "import requests\n",
    "import shutil\n",
    "\n",
    "store_path = \"/home/pwxcoo/Pictures/blog/\"\n",
    "\n",
    "for image in images:\n",
    "    r = requests.get(image[1], stream=True)\n",
    "    if r.status_code == 200:\n",
    "        with open(f\"{store_path}{image[0]}.png\", 'wb') as f:\n",
    "            r.raw.decode_content = True\n",
    "            shutil.copyfileobj(r.raw, f) "
   ]
  },
  {
   "cell_type": "code",
   "execution_count": null,
   "metadata": {},
   "outputs": [],
   "source": []
  }
 ],
 "metadata": {
  "kernelspec": {
   "display_name": "Python 3",
   "language": "python",
   "name": "python3"
  },
  "language_info": {
   "codemirror_mode": {
    "name": "ipython",
    "version": 3
   },
   "file_extension": ".py",
   "mimetype": "text/x-python",
   "name": "python",
   "nbconvert_exporter": "python",
   "pygments_lexer": "ipython3",
   "version": "3.7.0"
  }
 },
 "nbformat": 4,
 "nbformat_minor": 2
}
